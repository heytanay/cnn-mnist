{
  "nbformat": 4,
  "nbformat_minor": 0,
  "metadata": {
    "colab": {
      "name": "CNN MNIST.ipynb",
      "version": "0.3.2",
      "provenance": [],
      "collapsed_sections": [],
      "include_colab_link": true
    },
    "kernelspec": {
      "name": "python3",
      "display_name": "Python 3"
    },
    "accelerator": "TPU"
  },
  "cells": [
    {
      "cell_type": "markdown",
      "metadata": {
        "id": "view-in-github",
        "colab_type": "text"
      },
      "source": [
        "<a href=\"https://colab.research.google.com/github/heytanay/cnn-mnist/blob/master/CNN_MNIST.ipynb\" target=\"_parent\"><img src=\"https://colab.research.google.com/assets/colab-badge.svg\" alt=\"Open In Colab\"/></a>"
      ]
    },
    {
      "cell_type": "code",
      "metadata": {
        "id": "sXC6S0pYhImi",
        "colab_type": "code",
        "colab": {}
      },
      "source": [
        "import tensorflow as tf\n",
        "from matplotlib import pyplot as plt "
      ],
      "execution_count": 0,
      "outputs": []
    },
    {
      "cell_type": "code",
      "metadata": {
        "id": "Nxhry4hnhQIc",
        "colab_type": "code",
        "colab": {}
      },
      "source": [
        "from tensorflow.examples.tutorials.mnist import input_data"
      ],
      "execution_count": 0,
      "outputs": []
    },
    {
      "cell_type": "code",
      "metadata": {
        "id": "TLxKYRcxhmSm",
        "colab_type": "code",
        "colab": {
          "base_uri": "https://localhost:8080/",
          "height": 524
        },
        "outputId": "5ba4ad63-728c-413b-b7e4-169dfa7965ea"
      },
      "source": [
        "mnist = input_data.read_data_sets(\"MNIST_data/\", one_hot=True)"
      ],
      "execution_count": 6,
      "outputs": [
        {
          "output_type": "stream",
          "text": [
            "W0727 12:53:53.413724 140179722250112 deprecation.py:323] From <ipython-input-6-a839aeb82f4b>:1: read_data_sets (from tensorflow.contrib.learn.python.learn.datasets.mnist) is deprecated and will be removed in a future version.\n",
            "Instructions for updating:\n",
            "Please use alternatives such as official/mnist/dataset.py from tensorflow/models.\n",
            "W0727 12:53:53.420522 140179722250112 deprecation.py:323] From /usr/local/lib/python3.6/dist-packages/tensorflow/contrib/learn/python/learn/datasets/mnist.py:260: maybe_download (from tensorflow.contrib.learn.python.learn.datasets.base) is deprecated and will be removed in a future version.\n",
            "Instructions for updating:\n",
            "Please write your own downloading logic.\n",
            "W0727 12:53:53.424696 140179722250112 deprecation.py:323] From /usr/local/lib/python3.6/dist-packages/tensorflow/contrib/learn/python/learn/datasets/base.py:252: _internal_retry.<locals>.wrap.<locals>.wrapped_fn (from tensorflow.contrib.learn.python.learn.datasets.base) is deprecated and will be removed in a future version.\n",
            "Instructions for updating:\n",
            "Please use urllib or similar directly.\n",
            "W0727 12:53:53.755330 140179722250112 deprecation.py:323] From /usr/local/lib/python3.6/dist-packages/tensorflow/contrib/learn/python/learn/datasets/mnist.py:262: extract_images (from tensorflow.contrib.learn.python.learn.datasets.mnist) is deprecated and will be removed in a future version.\n",
            "Instructions for updating:\n",
            "Please use tf.data to implement this functionality.\n"
          ],
          "name": "stderr"
        },
        {
          "output_type": "stream",
          "text": [
            "Successfully downloaded train-images-idx3-ubyte.gz 9912422 bytes.\n",
            "Extracting MNIST_data/train-images-idx3-ubyte.gz\n"
          ],
          "name": "stdout"
        },
        {
          "output_type": "stream",
          "text": [
            "W0727 12:53:54.111077 140179722250112 deprecation.py:323] From /usr/local/lib/python3.6/dist-packages/tensorflow/contrib/learn/python/learn/datasets/mnist.py:267: extract_labels (from tensorflow.contrib.learn.python.learn.datasets.mnist) is deprecated and will be removed in a future version.\n",
            "Instructions for updating:\n",
            "Please use tf.data to implement this functionality.\n",
            "W0727 12:53:54.118395 140179722250112 deprecation.py:323] From /usr/local/lib/python3.6/dist-packages/tensorflow/contrib/learn/python/learn/datasets/mnist.py:110: dense_to_one_hot (from tensorflow.contrib.learn.python.learn.datasets.mnist) is deprecated and will be removed in a future version.\n",
            "Instructions for updating:\n",
            "Please use tf.one_hot on tensors.\n",
            "W0727 12:53:54.286517 140179722250112 deprecation.py:323] From /usr/local/lib/python3.6/dist-packages/tensorflow/contrib/learn/python/learn/datasets/mnist.py:290: DataSet.__init__ (from tensorflow.contrib.learn.python.learn.datasets.mnist) is deprecated and will be removed in a future version.\n",
            "Instructions for updating:\n",
            "Please use alternatives such as official/mnist/dataset.py from tensorflow/models.\n"
          ],
          "name": "stderr"
        },
        {
          "output_type": "stream",
          "text": [
            "Successfully downloaded train-labels-idx1-ubyte.gz 28881 bytes.\n",
            "Extracting MNIST_data/train-labels-idx1-ubyte.gz\n",
            "Successfully downloaded t10k-images-idx3-ubyte.gz 1648877 bytes.\n",
            "Extracting MNIST_data/t10k-images-idx3-ubyte.gz\n",
            "Successfully downloaded t10k-labels-idx1-ubyte.gz 4542 bytes.\n",
            "Extracting MNIST_data/t10k-labels-idx1-ubyte.gz\n"
          ],
          "name": "stdout"
        }
      ]
    },
    {
      "cell_type": "code",
      "metadata": {
        "id": "1WXP-swdh0gg",
        "colab_type": "code",
        "colab": {
          "base_uri": "https://localhost:8080/",
          "height": 34
        },
        "outputId": "edf2adad-dc4f-467a-eb62-381130b7f2d3"
      },
      "source": [
        "type(mnist)"
      ],
      "execution_count": 7,
      "outputs": [
        {
          "output_type": "execute_result",
          "data": {
            "text/plain": [
              "tensorflow.contrib.learn.python.learn.datasets.base.Datasets"
            ]
          },
          "metadata": {
            "tags": []
          },
          "execution_count": 7
        }
      ]
    },
    {
      "cell_type": "code",
      "metadata": {
        "id": "eaEexwSPh4_8",
        "colab_type": "code",
        "colab": {
          "base_uri": "https://localhost:8080/",
          "height": 286
        },
        "outputId": "6ebfd7d3-d6de-4917-e87a-267d6c6252aa"
      },
      "source": [
        "plt.imshow(mnist.test.images[91].reshape(28,28))"
      ],
      "execution_count": 20,
      "outputs": [
        {
          "output_type": "execute_result",
          "data": {
            "text/plain": [
              "<matplotlib.image.AxesImage at 0x7f7ddfd3cfd0>"
            ]
          },
          "metadata": {
            "tags": []
          },
          "execution_count": 20
        },
        {
          "output_type": "display_data",
          "data": {
            "image/png": "[encoded data removed]",
            "text/plain": [
              "<Figure size 432x288 with 1 Axes>"
            ]
          },
          "metadata": {
            "tags": []
          }
        }
      ]
    },
    {
      "cell_type": "code",
      "metadata": {
        "id": "HlywCLM1h6WG",
        "colab_type": "code",
        "colab": {}
      },
      "source": [
        "def init_weights(shape):\n",
        "    random_dist = tf.truncated_normal(shape, stddev=0.1)\n",
        "    return tf.Variable(random_dist)"
      ],
      "execution_count": 0,
      "outputs": []
    },
    {
      "cell_type": "code",
      "metadata": {
        "id": "zV_vUpM7i8rc",
        "colab_type": "code",
        "colab": {}
      },
      "source": [
        "def init_bias(shape):\n",
        "    bias_val = tf.constant(0.1,shape=shape)\n",
        "    return tf.Variable(bias_val)"
      ],
      "execution_count": 0,
      "outputs": []
    },
    {
      "cell_type": "code",
      "metadata": {
        "id": "hCFyBLskjIn3",
        "colab_type": "code",
        "colab": {}
      },
      "source": [
        "# Convolution 2D\n",
        "def conv2d(X, W):\n",
        "    # X -> Input Tensor => [Batch, Height, Width, Channels]\n",
        "    # W -> Weights Tensor => [filter of Height, filter of Width, Channels Input, Channels Ouput]\n",
        "\n",
        "    return tf.nn.conv2d(X, W, strides=[1,1,1,1], padding='SAME')"
      ],
      "execution_count": 0,
      "outputs": []
    },
    {
      "cell_type": "code",
      "metadata": {
        "id": "iVfpB1xijlyo",
        "colab_type": "code",
        "colab": {}
      },
      "source": [
        "# Pooling Layer\n",
        "def max_pool_2b2(X):\n",
        "    # X -> Input Tensor => [Batch, height, width, channel]\n",
        "    return tf.nn.max_pool(X, ksize=[1,2,2,1], strides=[1,2,2,1], padding='SAME')"
      ],
      "execution_count": 0,
      "outputs": []
    },
    {
      "cell_type": "code",
      "metadata": {
        "id": "8IwHnPqujnME",
        "colab_type": "code",
        "colab": {}
      },
      "source": [
        "# Convolutional Layer Initializer\n",
        "def convolutional_layer(input_x, shape):\n",
        "    W = init_weights(shape)\n",
        "    b = init_bias([shape[3]])\n",
        "    return tf.nn.relu(conv2d(input_x, W)+b)"
      ],
      "execution_count": 0,
      "outputs": []
    },
    {
      "cell_type": "code",
      "metadata": {
        "id": "b8xMA5Sxkm5b",
        "colab_type": "code",
        "colab": {}
      },
      "source": [
        "# Fully Connected Layer\n",
        "def dense_layer(input_layer, size):\n",
        "    input_size = int(input_layer.get_shape()[1])\n",
        "    W = init_weights([input_size, size])\n",
        "    b = init_bias([size])\n",
        "\n",
        "    return tf.matmul(input_layer, W) + b"
      ],
      "execution_count": 0,
      "outputs": []
    },
    {
      "cell_type": "code",
      "metadata": {
        "id": "ctMbawq4lBK_",
        "colab_type": "code",
        "colab": {}
      },
      "source": [
        "# Placeholders\n",
        "X = tf.placeholder(tf.float32, shape=[None, 784])\n",
        "Y_true = tf.placeholder(tf.float32, shape=[None, 10])"
      ],
      "execution_count": 0,
      "outputs": []
    },
    {
      "cell_type": "code",
      "metadata": {
        "id": "tLfak2h1lfFB",
        "colab_type": "code",
        "colab": {}
      },
      "source": [
        "x_image = tf.reshape(X, [-1,28,28,1])"
      ],
      "execution_count": 0,
      "outputs": []
    },
    {
      "cell_type": "code",
      "metadata": {
        "id": "a6NVpEislju_",
        "colab_type": "code",
        "colab": {}
      },
      "source": [
        "convo_1 = convolutional_layer(x_image, shape=[5,5,1,32])\n",
        "convo_1_pooling = max_pool_2b2(convo_1)"
      ],
      "execution_count": 0,
      "outputs": []
    },
    {
      "cell_type": "code",
      "metadata": {
        "id": "4nswTkwImPsr",
        "colab_type": "code",
        "colab": {}
      },
      "source": [
        "convo_2 = convolutional_layer(convo_1_pooling, shape=[5,5,32,64])\n",
        "convo_2_pooling = max_pool_2b2(convo_2)"
      ],
      "execution_count": 0,
      "outputs": []
    },
    {
      "cell_type": "code",
      "metadata": {
        "id": "lHyeIufimRPf",
        "colab_type": "code",
        "colab": {}
      },
      "source": [
        "convo_3 = convolutional_layer(convo_2_pooling, shape=[5,5,64,128])\n",
        "convo_3_pooling = max_pool_2b2(convo_3)"
      ],
      "execution_count": 0,
      "outputs": []
    },
    {
      "cell_type": "code",
      "metadata": {
        "id": "0r9Pr1dJnLWk",
        "colab_type": "code",
        "colab": {}
      },
      "source": [
        "convo_2_flat = tf.reshape(convo_2_pooling, [-1,7*7*64])\n",
        "full_layer_one = tf.nn.relu(dense_layer(convo_2_flat, 1024))"
      ],
      "execution_count": 0,
      "outputs": []
    },
    {
      "cell_type": "code",
      "metadata": {
        "id": "M36sqbdYnci9",
        "colab_type": "code",
        "colab": {}
      },
      "source": [
        "# Dropout\n",
        "hold_prob = tf.placeholder(tf.float32)\n",
        "full_one_drop = tf.nn.dropout(full_layer_one, rate=1-hold_prob)"
      ],
      "execution_count": 0,
      "outputs": []
    },
    {
      "cell_type": "code",
      "metadata": {
        "id": "mWAMt1oInefQ",
        "colab_type": "code",
        "colab": {}
      },
      "source": [
        "Y_pred = dense_layer(full_one_drop, 10)"
      ],
      "execution_count": 0,
      "outputs": []
    },
    {
      "cell_type": "code",
      "metadata": {
        "id": "hp3XIuWAoAZM",
        "colab_type": "code",
        "colab": {}
      },
      "source": [
        "# Loss\n",
        "cross_entropy = tf.reduce_mean(tf.nn.softmax_cross_entropy_with_logits_v2(labels=Y_true, logits=Y_pred))"
      ],
      "execution_count": 0,
      "outputs": []
    },
    {
      "cell_type": "code",
      "metadata": {
        "id": "WjHTIUjipQTL",
        "colab_type": "code",
        "colab": {}
      },
      "source": [
        "# Optimizer\n",
        "optimizer = tf.train.AdamOptimizer(learning_rate=0.001)\n",
        "train = optimizer.minimize(cross_entropy)"
      ],
      "execution_count": 0,
      "outputs": []
    },
    {
      "cell_type": "code",
      "metadata": {
        "id": "AWnuTRg_pmq6",
        "colab_type": "code",
        "colab": {}
      },
      "source": [
        "init = tf.global_variables_initializer()"
      ],
      "execution_count": 0,
      "outputs": []
    },
    {
      "cell_type": "code",
      "metadata": {
        "id": "IrT7EYhBpp4t",
        "colab_type": "code",
        "colab": {}
      },
      "source": [
        "epochs = 10000\n",
        "accuracies = list()"
      ],
      "execution_count": 0,
      "outputs": []
    },
    {
      "cell_type": "code",
      "metadata": {
        "id": "3f9lghwupsro",
        "colab_type": "code",
        "colab": {
          "base_uri": "https://localhost:8080/",
          "height": 1000
        },
        "outputId": "ec96a310-e1e3-402b-d1ae-0d1c2a03bafc"
      },
      "source": [
        "with tf.Session() as sess:\n",
        "    sess.run(init)\n",
        "\n",
        "    for i in range(epochs):\n",
        "        batch_x, batch_y = mnist.train.next_batch(50)\n",
        "\n",
        "        sess.run(train, feed_dict={X:batch_x, Y_true:batch_y, hold_prob:0.5})\n",
        "\n",
        "        if i % 100 == 0:\n",
        "            matches = tf.equal(tf.argmax(Y_pred, 1), tf.argmax(Y_true, 1))\n",
        "            accuracy = tf.reduce_mean(tf.cast(matches, tf.float32))\n",
        "            present_acc = sess.run(accuracy, feed_dict={X: mnist.test.images, Y_true: mnist.test.labels, hold_prob: 1.0})\n",
        "            print(\"At epoch:{}, Accuracy is: {}\".format(i, present_acc))\n",
        "            accuracies.append(present_acc)         \n",
        "            \n"
      ],
      "execution_count": 94,
      "outputs": [
        {
          "output_type": "stream",
          "text": [
            "At epoch:0, Accuracy is: 0.15649999678134918\n",
            "At epoch:100, Accuracy is: 0.9416000247001648\n",
            "At epoch:200, Accuracy is: 0.9663000106811523\n",
            "At epoch:300, Accuracy is: 0.9708999991416931\n",
            "At epoch:400, Accuracy is: 0.9731000065803528\n",
            "At epoch:500, Accuracy is: 0.9789999723434448\n",
            "At epoch:600, Accuracy is: 0.9753999710083008\n",
            "At epoch:700, Accuracy is: 0.9807000160217285\n",
            "At epoch:800, Accuracy is: 0.982200026512146\n",
            "At epoch:900, Accuracy is: 0.9824000000953674\n",
            "At epoch:1000, Accuracy is: 0.984499990940094\n",
            "At epoch:1100, Accuracy is: 0.9851999878883362\n",
            "At epoch:1200, Accuracy is: 0.984000027179718\n",
            "At epoch:1300, Accuracy is: 0.9843000173568726\n",
            "At epoch:1400, Accuracy is: 0.9873999953269958\n",
            "At epoch:1500, Accuracy is: 0.9855999946594238\n",
            "At epoch:1600, Accuracy is: 0.98580002784729\n",
            "At epoch:1700, Accuracy is: 0.9865000247955322\n",
            "At epoch:1800, Accuracy is: 0.9872000217437744\n",
            "At epoch:1900, Accuracy is: 0.9876999855041504\n",
            "At epoch:2000, Accuracy is: 0.9883000254631042\n",
            "At epoch:2100, Accuracy is: 0.9847000241279602\n",
            "At epoch:2200, Accuracy is: 0.9873999953269958\n",
            "At epoch:2300, Accuracy is: 0.986299991607666\n",
            "At epoch:2400, Accuracy is: 0.9897000193595886\n",
            "At epoch:2500, Accuracy is: 0.9898999929428101\n",
            "At epoch:2600, Accuracy is: 0.9902999997138977\n",
            "At epoch:2700, Accuracy is: 0.988099992275238\n",
            "At epoch:2800, Accuracy is: 0.9894000291824341\n",
            "At epoch:2900, Accuracy is: 0.9894999861717224\n",
            "At epoch:3000, Accuracy is: 0.9871000051498413\n",
            "At epoch:3100, Accuracy is: 0.9902999997138977\n",
            "At epoch:3200, Accuracy is: 0.9894999861717224\n",
            "At epoch:3300, Accuracy is: 0.9894000291824341\n",
            "At epoch:3400, Accuracy is: 0.9894000291824341\n",
            "At epoch:3500, Accuracy is: 0.9883000254631042\n",
            "At epoch:3600, Accuracy is: 0.989300012588501\n",
            "At epoch:3700, Accuracy is: 0.9894000291824341\n",
            "At epoch:3800, Accuracy is: 0.9890999794006348\n",
            "At epoch:3900, Accuracy is: 0.9879999756813049\n",
            "At epoch:4000, Accuracy is: 0.9894999861717224\n",
            "At epoch:4100, Accuracy is: 0.9894999861717224\n",
            "At epoch:4200, Accuracy is: 0.9904999732971191\n",
            "At epoch:4300, Accuracy is: 0.9908000230789185\n",
            "At epoch:4400, Accuracy is: 0.9901999831199646\n",
            "At epoch:4500, Accuracy is: 0.9887999892234802\n",
            "At epoch:4600, Accuracy is: 0.989799976348877\n",
            "At epoch:4700, Accuracy is: 0.9908000230789185\n",
            "At epoch:4800, Accuracy is: 0.9886000156402588\n",
            "At epoch:4900, Accuracy is: 0.9905999898910522\n",
            "At epoch:5000, Accuracy is: 0.9905999898910522\n",
            "At epoch:5100, Accuracy is: 0.9911999702453613\n",
            "At epoch:5200, Accuracy is: 0.9901999831199646\n",
            "At epoch:5300, Accuracy is: 0.9904000163078308\n",
            "At epoch:5400, Accuracy is: 0.9908999800682068\n",
            "At epoch:5500, Accuracy is: 0.9898999929428101\n",
            "At epoch:5600, Accuracy is: 0.9896000027656555\n",
            "At epoch:5700, Accuracy is: 0.9907000064849854\n",
            "At epoch:5800, Accuracy is: 0.9894000291824341\n",
            "At epoch:5900, Accuracy is: 0.9902999997138977\n",
            "At epoch:6000, Accuracy is: 0.9908999800682068\n",
            "At epoch:6100, Accuracy is: 0.9908000230789185\n",
            "At epoch:6200, Accuracy is: 0.9891999959945679\n",
            "At epoch:6300, Accuracy is: 0.9915000200271606\n",
            "At epoch:6400, Accuracy is: 0.9923999905586243\n",
            "At epoch:6500, Accuracy is: 0.991100013256073\n",
            "At epoch:6600, Accuracy is: 0.9922000169754028\n",
            "At epoch:6700, Accuracy is: 0.9904999732971191\n",
            "At epoch:6800, Accuracy is: 0.9900000095367432\n",
            "At epoch:6900, Accuracy is: 0.9922000169754028\n",
            "At epoch:7000, Accuracy is: 0.9898999929428101\n",
            "At epoch:7100, Accuracy is: 0.991599977016449\n",
            "At epoch:7200, Accuracy is: 0.989799976348877\n",
            "At epoch:7300, Accuracy is: 0.9918000102043152\n",
            "At epoch:7400, Accuracy is: 0.9904999732971191\n",
            "At epoch:7500, Accuracy is: 0.9922999739646912\n",
            "At epoch:7600, Accuracy is: 0.9897000193595886\n",
            "At epoch:7700, Accuracy is: 0.9902999997138977\n",
            "At epoch:7800, Accuracy is: 0.9898999929428101\n",
            "At epoch:7900, Accuracy is: 0.9904999732971191\n",
            "At epoch:8000, Accuracy is: 0.9909999966621399\n",
            "At epoch:8100, Accuracy is: 0.9886000156402588\n"
          ],
          "name": "stdout"
        },
        {
          "output_type": "error",
          "ename": "KeyboardInterrupt",
          "evalue": "ignored",
          "traceback": [
            "\u001b[0;31m---------------------------------------------------------------------------\u001b[0m",
            "\u001b[0;31mKeyboardInterrupt\u001b[0m                         Traceback (most recent call last)",
            "\u001b[0;32m<ipython-input-94-d429680b443e>\u001b[0m in \u001b[0;36m<module>\u001b[0;34m()\u001b[0m\n\u001b[1;32m      5\u001b[0m         \u001b[0mbatch_x\u001b[0m\u001b[0;34m,\u001b[0m \u001b[0mbatch_y\u001b[0m \u001b[0;34m=\u001b[0m \u001b[0mmnist\u001b[0m\u001b[0;34m.\u001b[0m\u001b[0mtrain\u001b[0m\u001b[0;34m.\u001b[0m\u001b[0mnext_batch\u001b[0m\u001b[0;34m(\u001b[0m\u001b[0;36m50\u001b[0m\u001b[0;34m)\u001b[0m\u001b[0;34m\u001b[0m\u001b[0;34m\u001b[0m\u001b[0m\n\u001b[1;32m      6\u001b[0m \u001b[0;34m\u001b[0m\u001b[0m\n\u001b[0;32m----> 7\u001b[0;31m         \u001b[0msess\u001b[0m\u001b[0;34m.\u001b[0m\u001b[0mrun\u001b[0m\u001b[0;34m(\u001b[0m\u001b[0mtrain\u001b[0m\u001b[0;34m,\u001b[0m \u001b[0mfeed_dict\u001b[0m\u001b[0;34m=\u001b[0m\u001b[0;34m{\u001b[0m\u001b[0mX\u001b[0m\u001b[0;34m:\u001b[0m\u001b[0mbatch_x\u001b[0m\u001b[0;34m,\u001b[0m \u001b[0mY_true\u001b[0m\u001b[0;34m:\u001b[0m\u001b[0mbatch_y\u001b[0m\u001b[0;34m,\u001b[0m \u001b[0mhold_prob\u001b[0m\u001b[0;34m:\u001b[0m\u001b[0;36m0.5\u001b[0m\u001b[0;34m}\u001b[0m\u001b[0;34m)\u001b[0m\u001b[0;34m\u001b[0m\u001b[0;34m\u001b[0m\u001b[0m\n\u001b[0m\u001b[1;32m      8\u001b[0m \u001b[0;34m\u001b[0m\u001b[0m\n\u001b[1;32m      9\u001b[0m         \u001b[0;32mif\u001b[0m \u001b[0mi\u001b[0m \u001b[0;34m%\u001b[0m \u001b[0;36m100\u001b[0m \u001b[0;34m==\u001b[0m \u001b[0;36m0\u001b[0m\u001b[0;34m:\u001b[0m\u001b[0;34m\u001b[0m\u001b[0;34m\u001b[0m\u001b[0m\n",
            "\u001b[0;32m/usr/local/lib/python3.6/dist-packages/tensorflow/python/client/session.py\u001b[0m in \u001b[0;36mrun\u001b[0;34m(self, fetches, feed_dict, options, run_metadata)\u001b[0m\n\u001b[1;32m    948\u001b[0m     \u001b[0;32mtry\u001b[0m\u001b[0;34m:\u001b[0m\u001b[0;34m\u001b[0m\u001b[0;34m\u001b[0m\u001b[0m\n\u001b[1;32m    949\u001b[0m       result = self._run(None, fetches, feed_dict, options_ptr,\n\u001b[0;32m--> 950\u001b[0;31m                          run_metadata_ptr)\n\u001b[0m\u001b[1;32m    951\u001b[0m       \u001b[0;32mif\u001b[0m \u001b[0mrun_metadata\u001b[0m\u001b[0;34m:\u001b[0m\u001b[0;34m\u001b[0m\u001b[0;34m\u001b[0m\u001b[0m\n\u001b[1;32m    952\u001b[0m         \u001b[0mproto_data\u001b[0m \u001b[0;34m=\u001b[0m \u001b[0mtf_session\u001b[0m\u001b[0;34m.\u001b[0m\u001b[0mTF_GetBuffer\u001b[0m\u001b[0;34m(\u001b[0m\u001b[0mrun_metadata_ptr\u001b[0m\u001b[0;34m)\u001b[0m\u001b[0;34m\u001b[0m\u001b[0;34m\u001b[0m\u001b[0m\n",
            "\u001b[0;32m/usr/local/lib/python3.6/dist-packages/tensorflow/python/client/session.py\u001b[0m in \u001b[0;36m_run\u001b[0;34m(self, handle, fetches, feed_dict, options, run_metadata)\u001b[0m\n\u001b[1;32m   1171\u001b[0m     \u001b[0;32mif\u001b[0m \u001b[0mfinal_fetches\u001b[0m \u001b[0;32mor\u001b[0m \u001b[0mfinal_targets\u001b[0m \u001b[0;32mor\u001b[0m \u001b[0;34m(\u001b[0m\u001b[0mhandle\u001b[0m \u001b[0;32mand\u001b[0m \u001b[0mfeed_dict_tensor\u001b[0m\u001b[0;34m)\u001b[0m\u001b[0;34m:\u001b[0m\u001b[0;34m\u001b[0m\u001b[0;34m\u001b[0m\u001b[0m\n\u001b[1;32m   1172\u001b[0m       results = self._do_run(handle, final_targets, final_fetches,\n\u001b[0;32m-> 1173\u001b[0;31m                              feed_dict_tensor, options, run_metadata)\n\u001b[0m\u001b[1;32m   1174\u001b[0m     \u001b[0;32melse\u001b[0m\u001b[0;34m:\u001b[0m\u001b[0;34m\u001b[0m\u001b[0;34m\u001b[0m\u001b[0m\n\u001b[1;32m   1175\u001b[0m       \u001b[0mresults\u001b[0m \u001b[0;34m=\u001b[0m \u001b[0;34m[\u001b[0m\u001b[0;34m]\u001b[0m\u001b[0;34m\u001b[0m\u001b[0;34m\u001b[0m\u001b[0m\n",
            "\u001b[0;32m/usr/local/lib/python3.6/dist-packages/tensorflow/python/client/session.py\u001b[0m in \u001b[0;36m_do_run\u001b[0;34m(self, handle, target_list, fetch_list, feed_dict, options, run_metadata)\u001b[0m\n\u001b[1;32m   1348\u001b[0m     \u001b[0;32mif\u001b[0m \u001b[0mhandle\u001b[0m \u001b[0;32mis\u001b[0m \u001b[0;32mNone\u001b[0m\u001b[0;34m:\u001b[0m\u001b[0;34m\u001b[0m\u001b[0;34m\u001b[0m\u001b[0m\n\u001b[1;32m   1349\u001b[0m       return self._do_call(_run_fn, feeds, fetches, targets, options,\n\u001b[0;32m-> 1350\u001b[0;31m                            run_metadata)\n\u001b[0m\u001b[1;32m   1351\u001b[0m     \u001b[0;32melse\u001b[0m\u001b[0;34m:\u001b[0m\u001b[0;34m\u001b[0m\u001b[0;34m\u001b[0m\u001b[0m\n\u001b[1;32m   1352\u001b[0m       \u001b[0;32mreturn\u001b[0m \u001b[0mself\u001b[0m\u001b[0;34m.\u001b[0m\u001b[0m_do_call\u001b[0m\u001b[0;34m(\u001b[0m\u001b[0m_prun_fn\u001b[0m\u001b[0;34m,\u001b[0m \u001b[0mhandle\u001b[0m\u001b[0;34m,\u001b[0m \u001b[0mfeeds\u001b[0m\u001b[0;34m,\u001b[0m \u001b[0mfetches\u001b[0m\u001b[0;34m)\u001b[0m\u001b[0;34m\u001b[0m\u001b[0;34m\u001b[0m\u001b[0m\n",
            "\u001b[0;32m/usr/local/lib/python3.6/dist-packages/tensorflow/python/client/session.py\u001b[0m in \u001b[0;36m_do_call\u001b[0;34m(self, fn, *args)\u001b[0m\n\u001b[1;32m   1354\u001b[0m   \u001b[0;32mdef\u001b[0m \u001b[0m_do_call\u001b[0m\u001b[0;34m(\u001b[0m\u001b[0mself\u001b[0m\u001b[0;34m,\u001b[0m \u001b[0mfn\u001b[0m\u001b[0;34m,\u001b[0m \u001b[0;34m*\u001b[0m\u001b[0margs\u001b[0m\u001b[0;34m)\u001b[0m\u001b[0;34m:\u001b[0m\u001b[0;34m\u001b[0m\u001b[0;34m\u001b[0m\u001b[0m\n\u001b[1;32m   1355\u001b[0m     \u001b[0;32mtry\u001b[0m\u001b[0;34m:\u001b[0m\u001b[0;34m\u001b[0m\u001b[0;34m\u001b[0m\u001b[0m\n\u001b[0;32m-> 1356\u001b[0;31m       \u001b[0;32mreturn\u001b[0m \u001b[0mfn\u001b[0m\u001b[0;34m(\u001b[0m\u001b[0;34m*\u001b[0m\u001b[0margs\u001b[0m\u001b[0;34m)\u001b[0m\u001b[0;34m\u001b[0m\u001b[0;34m\u001b[0m\u001b[0m\n\u001b[0m\u001b[1;32m   1357\u001b[0m     \u001b[0;32mexcept\u001b[0m \u001b[0merrors\u001b[0m\u001b[0;34m.\u001b[0m\u001b[0mOpError\u001b[0m \u001b[0;32mas\u001b[0m \u001b[0me\u001b[0m\u001b[0;34m:\u001b[0m\u001b[0;34m\u001b[0m\u001b[0;34m\u001b[0m\u001b[0m\n\u001b[1;32m   1358\u001b[0m       \u001b[0mmessage\u001b[0m \u001b[0;34m=\u001b[0m \u001b[0mcompat\u001b[0m\u001b[0;34m.\u001b[0m\u001b[0mas_text\u001b[0m\u001b[0;34m(\u001b[0m\u001b[0me\u001b[0m\u001b[0;34m.\u001b[0m\u001b[0mmessage\u001b[0m\u001b[0;34m)\u001b[0m\u001b[0;34m\u001b[0m\u001b[0;34m\u001b[0m\u001b[0m\n",
            "\u001b[0;32m/usr/local/lib/python3.6/dist-packages/tensorflow/python/client/session.py\u001b[0m in \u001b[0;36m_run_fn\u001b[0;34m(feed_dict, fetch_list, target_list, options, run_metadata)\u001b[0m\n\u001b[1;32m   1339\u001b[0m       \u001b[0mself\u001b[0m\u001b[0;34m.\u001b[0m\u001b[0m_extend_graph\u001b[0m\u001b[0;34m(\u001b[0m\u001b[0;34m)\u001b[0m\u001b[0;34m\u001b[0m\u001b[0;34m\u001b[0m\u001b[0m\n\u001b[1;32m   1340\u001b[0m       return self._call_tf_sessionrun(\n\u001b[0;32m-> 1341\u001b[0;31m           options, feed_dict, fetch_list, target_list, run_metadata)\n\u001b[0m\u001b[1;32m   1342\u001b[0m \u001b[0;34m\u001b[0m\u001b[0m\n\u001b[1;32m   1343\u001b[0m     \u001b[0;32mdef\u001b[0m \u001b[0m_prun_fn\u001b[0m\u001b[0;34m(\u001b[0m\u001b[0mhandle\u001b[0m\u001b[0;34m,\u001b[0m \u001b[0mfeed_dict\u001b[0m\u001b[0;34m,\u001b[0m \u001b[0mfetch_list\u001b[0m\u001b[0;34m)\u001b[0m\u001b[0;34m:\u001b[0m\u001b[0;34m\u001b[0m\u001b[0;34m\u001b[0m\u001b[0m\n",
            "\u001b[0;32m/usr/local/lib/python3.6/dist-packages/tensorflow/python/client/session.py\u001b[0m in \u001b[0;36m_call_tf_sessionrun\u001b[0;34m(self, options, feed_dict, fetch_list, target_list, run_metadata)\u001b[0m\n\u001b[1;32m   1427\u001b[0m     return tf_session.TF_SessionRun_wrapper(\n\u001b[1;32m   1428\u001b[0m         \u001b[0mself\u001b[0m\u001b[0;34m.\u001b[0m\u001b[0m_session\u001b[0m\u001b[0;34m,\u001b[0m \u001b[0moptions\u001b[0m\u001b[0;34m,\u001b[0m \u001b[0mfeed_dict\u001b[0m\u001b[0;34m,\u001b[0m \u001b[0mfetch_list\u001b[0m\u001b[0;34m,\u001b[0m \u001b[0mtarget_list\u001b[0m\u001b[0;34m,\u001b[0m\u001b[0;34m\u001b[0m\u001b[0;34m\u001b[0m\u001b[0m\n\u001b[0;32m-> 1429\u001b[0;31m         run_metadata)\n\u001b[0m\u001b[1;32m   1430\u001b[0m \u001b[0;34m\u001b[0m\u001b[0m\n\u001b[1;32m   1431\u001b[0m   \u001b[0;32mdef\u001b[0m \u001b[0m_call_tf_sessionprun\u001b[0m\u001b[0;34m(\u001b[0m\u001b[0mself\u001b[0m\u001b[0;34m,\u001b[0m \u001b[0mhandle\u001b[0m\u001b[0;34m,\u001b[0m \u001b[0mfeed_dict\u001b[0m\u001b[0;34m,\u001b[0m \u001b[0mfetch_list\u001b[0m\u001b[0;34m)\u001b[0m\u001b[0;34m:\u001b[0m\u001b[0;34m\u001b[0m\u001b[0;34m\u001b[0m\u001b[0m\n",
            "\u001b[0;31mKeyboardInterrupt\u001b[0m: "
          ]
        }
      ]
    },
    {
      "cell_type": "code",
      "metadata": {
        "id": "0cGjNi4KquiY",
        "colab_type": "code",
        "colab": {
          "base_uri": "https://localhost:8080/",
          "height": 286
        },
        "outputId": "517d3e64-a801-480c-8b24-352539bcb6cb"
      },
      "source": [
        "plt.plot(accuracies)"
      ],
      "execution_count": 96,
      "outputs": [
        {
          "output_type": "execute_result",
          "data": {
            "text/plain": [
              "[<matplotlib.lines.Line2D at 0x7f7dd169b128>]"
            ]
          },
          "metadata": {
            "tags": []
          },
          "execution_count": 96
        },
        {
          "output_type": "display_data",
          "data": {
            "image/png": "[encoded data removed]",
            "text/plain": [
              "<Figure size 432x288 with 1 Axes>"
            ]
          },
          "metadata": {
            "tags": []
          }
        }
      ]
    },
    {
      "cell_type": "code",
      "metadata": {
        "id": "zvBfGV452SAE",
        "colab_type": "code",
        "colab": {}
      },
      "source": [
        ""
      ],
      "execution_count": 0,
      "outputs": []
    }
  ]
}